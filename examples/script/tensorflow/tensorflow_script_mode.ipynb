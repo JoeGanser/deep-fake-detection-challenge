{
 "cells": [
  {
   "cell_type": "markdown",
   "metadata": {},
   "source": [
    "# TensorFlow script mode training and serving\n",
    "\n",
    "Script mode is a training script format for TensorFlow that lets you execute any TensorFlow training script in SageMaker with minimal modification. The [SageMaker Python SDK](https://github.com/aws/sagemaker-python-sdk) handles transferring your script to a SageMaker training instance. On the training instance, SageMaker's native TensorFlow support sets up training-related environment variables and executes your training script. In this tutorial, we use the SageMaker Python SDK to launch a training job and deploy the trained model.\n",
    "\n",
    "Script mode supports training with a Python script, a Python module, or a shell script. In this example, we use a Python script to train a classification model on the [MNIST dataset](http://yann.lecun.com/exdb/mnist/). In this example, we will show how easily you can train a SageMaker using TensorFlow 1.x and TensorFlow 2.x scripts with SageMaker Python SDK. In addition, this notebook demonstrates how to perform real time inference with the [SageMaker TensorFlow Serving container](https://github.com/aws/sagemaker-tensorflow-serving-container). The TensorFlow Serving container is the default inference method for script mode. For full documentation on the TensorFlow Serving container, please visit [here](https://github.com/aws/sagemaker-python-sdk/blob/master/src/sagemaker/tensorflow/deploying_tensorflow_serving.rst).\n"
   ]
  },
  {
   "cell_type": "markdown",
   "metadata": {},
   "source": [
    "# Set up the environment\n",
    "\n",
    "Let's start by setting up the environment:"
   ]
  },
  {
   "cell_type": "markdown",
   "metadata": {},
   "source": [
    "## Install SageMaker Python SDK with TensorFlow 2.x Support (>1.49)\n",
    "_Note:  Ignore Warnings and Errors Below_"
   ]
  },
  {
   "cell_type": "code",
   "execution_count": 23,
   "metadata": {
    "scrolled": true
   },
   "outputs": [
    {
     "name": "stdout",
     "output_type": "stream",
     "text": [
      "Collecting sagemaker\n",
      "\u001b[?25l  Downloading https://files.pythonhosted.org/packages/09/23/b307e086945faac6365f22bf59298ceb5afcc93d0d5a59fc218220ec5767/sagemaker-1.49.0.tar.gz (291kB)\n",
      "\u001b[K    100% |████████████████████████████████| 296kB 35.6MB/s ta 0:00:01\n",
      "\u001b[?25hCollecting boto3>=1.10.32 (from sagemaker)\n",
      "\u001b[?25l  Downloading https://files.pythonhosted.org/packages/f9/01/1c749dc1bca8dda969f5fe0ba16fa6d24c6bd96572d118f790773c54a636/boto3-1.10.45-py2.py3-none-any.whl (128kB)\n",
      "\u001b[K    100% |████████████████████████████████| 133kB 57.8MB/s ta 0:00:01\n",
      "\u001b[?25hCollecting numpy>=1.9.0 (from sagemaker)\n",
      "\u001b[?25l  Downloading https://files.pythonhosted.org/packages/92/e6/45f71bd24f4e37629e9db5fb75caab919507deae6a5a257f9e4685a5f931/numpy-1.18.0-cp36-cp36m-manylinux1_x86_64.whl (20.1MB)\n",
      "\u001b[K    100% |████████████████████████████████| 20.1MB 110.2MB/s ta 0:00:01\n",
      "\u001b[?25hCollecting protobuf>=3.1 (from sagemaker)\n",
      "\u001b[?25l  Downloading https://files.pythonhosted.org/packages/ca/ac/838c8c8a5f33a58132dd2ad2a30329f6ae1614a9f56ffb79eaaf71a9d156/protobuf-3.11.2-cp36-cp36m-manylinux1_x86_64.whl (1.3MB)\n",
      "\u001b[K    100% |████████████████████████████████| 1.3MB 118.1MB/s ta 0:00:01\n",
      "\u001b[?25hCollecting scipy>=0.19.0 (from sagemaker)\n",
      "\u001b[?25l  Downloading https://files.pythonhosted.org/packages/dc/29/162476fd44203116e7980cfbd9352eef9db37c49445d1fec35509022f6aa/scipy-1.4.1-cp36-cp36m-manylinux1_x86_64.whl (26.1MB)\n",
      "\u001b[K    100% |████████████████████████████████| 26.1MB 108.5MB/s ta 0:00:01\n",
      "\u001b[?25hCollecting protobuf3-to-dict>=0.1.5 (from sagemaker)\n",
      "  Downloading https://files.pythonhosted.org/packages/6b/55/522bb43539fed463275ee803d79851faaebe86d17e7e3dbc89870d0322b9/protobuf3-to-dict-0.1.5.tar.gz\n",
      "Collecting requests<2.21,>=2.20.0 (from sagemaker)\n",
      "\u001b[?25l  Downloading https://files.pythonhosted.org/packages/ff/17/5cbb026005115301a8fb2f9b0e3e8d32313142fe8b617070e7baad20554f/requests-2.20.1-py2.py3-none-any.whl (57kB)\n",
      "\u001b[K    100% |████████████████████████████████| 61kB 69.8MB/s ta 0:00:01\n",
      "\u001b[?25hCollecting smdebug-rulesconfig==0.1.2 (from sagemaker)\n",
      "  Downloading https://files.pythonhosted.org/packages/36/08/b0d1d30f5c1e11a2d12af3b940cf5673dc5bbb67517d815807ae855abc5e/smdebug_rulesconfig-0.1.2-py2.py3-none-any.whl\n",
      "Collecting jmespath<1.0.0,>=0.7.1 (from boto3>=1.10.32->sagemaker)\n",
      "  Downloading https://files.pythonhosted.org/packages/83/94/7179c3832a6d45b266ddb2aac329e101367fbdb11f425f13771d27f225bb/jmespath-0.9.4-py2.py3-none-any.whl\n",
      "Collecting s3transfer<0.3.0,>=0.2.0 (from boto3>=1.10.32->sagemaker)\n",
      "\u001b[?25l  Downloading https://files.pythonhosted.org/packages/16/8a/1fc3dba0c4923c2a76e1ff0d52b305c44606da63f718d14d3231e21c51b0/s3transfer-0.2.1-py2.py3-none-any.whl (70kB)\n",
      "\u001b[K    100% |████████████████████████████████| 71kB 77.9MB/s ta 0:00:01\n",
      "\u001b[?25hCollecting botocore<1.14.0,>=1.13.45 (from boto3>=1.10.32->sagemaker)\n",
      "\u001b[?25l  Downloading https://files.pythonhosted.org/packages/96/22/9f8201d900956e57a9811e1b1c91c9f76c87487c76f636c2df1ce8379c38/botocore-1.13.45-py2.py3-none-any.whl (5.9MB)\n",
      "\u001b[K    100% |████████████████████████████████| 5.9MB 111.4MB/s ta 0:00:01\n",
      "\u001b[?25hCollecting setuptools (from protobuf>=3.1->sagemaker)\n",
      "\u001b[?25l  Downloading https://files.pythonhosted.org/packages/54/28/c45d8b54c1339f9644b87663945e54a8503cfef59cf0f65b3ff5dd17cf64/setuptools-42.0.2-py2.py3-none-any.whl (583kB)\n",
      "\u001b[K    100% |████████████████████████████████| 583kB 91.0MB/s ta 0:00:01\n",
      "\u001b[?25hCollecting six>=1.9 (from protobuf>=3.1->sagemaker)\n",
      "  Downloading https://files.pythonhosted.org/packages/65/26/32b8464df2a97e6dd1b656ed26b2c194606c16fe163c695a992b36c11cdf/six-1.13.0-py2.py3-none-any.whl\n",
      "Collecting idna<2.8,>=2.5 (from requests<2.21,>=2.20.0->sagemaker)\n",
      "\u001b[?25l  Downloading https://files.pythonhosted.org/packages/4b/2a/0276479a4b3caeb8a8c1af2f8e4355746a97fab05a372e4a2c6a6b876165/idna-2.7-py2.py3-none-any.whl (58kB)\n",
      "\u001b[K    100% |████████████████████████████████| 61kB 68.0MB/s ta 0:00:01\n",
      "\u001b[?25hCollecting urllib3<1.25,>=1.21.1 (from requests<2.21,>=2.20.0->sagemaker)\n",
      "\u001b[?25l  Downloading https://files.pythonhosted.org/packages/01/11/525b02e4acc0c747de8b6ccdab376331597c569c42ea66ab0a1dbd36eca2/urllib3-1.24.3-py2.py3-none-any.whl (118kB)\n",
      "\u001b[K    100% |████████████████████████████████| 122kB 74.2MB/s ta 0:00:01\n",
      "\u001b[?25hCollecting chardet<3.1.0,>=3.0.2 (from requests<2.21,>=2.20.0->sagemaker)\n",
      "\u001b[?25l  Downloading https://files.pythonhosted.org/packages/bc/a9/01ffebfb562e4274b6487b4bb1ddec7ca55ec7510b22e4c51f14098443b8/chardet-3.0.4-py2.py3-none-any.whl (133kB)\n",
      "\u001b[K    100% |████████████████████████████████| 143kB 114.2MB/s ta 0:00:01\n",
      "\u001b[?25hCollecting certifi>=2017.4.17 (from requests<2.21,>=2.20.0->sagemaker)\n",
      "\u001b[?25l  Downloading https://files.pythonhosted.org/packages/b9/63/df50cac98ea0d5b006c55a399c3bf1db9da7b5a24de7890bc9cfd5dd9e99/certifi-2019.11.28-py2.py3-none-any.whl (156kB)\n",
      "\u001b[K    100% |████████████████████████████████| 163kB 116.2MB/s ta 0:00:01\n",
      "\u001b[?25hCollecting docutils<0.16,>=0.10 (from botocore<1.14.0,>=1.13.45->boto3>=1.10.32->sagemaker)\n",
      "\u001b[?25l  Downloading https://files.pythonhosted.org/packages/22/cd/a6aa959dca619918ccb55023b4cb151949c64d4d5d55b3f4ffd7eee0c6e8/docutils-0.15.2-py3-none-any.whl (547kB)\n",
      "\u001b[K    100% |████████████████████████████████| 552kB 111.6MB/s ta 0:00:01\n",
      "\u001b[?25hCollecting python-dateutil<3.0.0,>=2.1; python_version >= \"2.7\" (from botocore<1.14.0,>=1.13.45->boto3>=1.10.32->sagemaker)\n",
      "\u001b[?25l  Downloading https://files.pythonhosted.org/packages/d4/70/d60450c3dd48ef87586924207ae8907090de0b306af2bce5d134d78615cb/python_dateutil-2.8.1-py2.py3-none-any.whl (227kB)\n",
      "\u001b[K    100% |████████████████████████████████| 235kB 117.0MB/s ta 0:00:01\n",
      "\u001b[31mawscli 1.16.283 has requirement botocore==1.13.19, but you'll have botocore 1.13.45 which is incompatible.\u001b[0m\n",
      "\u001b[?25hInstalling collected packages: jmespath, docutils, urllib3, six, python-dateutil, botocore, s3transfer, boto3, numpy, setuptools, protobuf, scipy, protobuf3-to-dict, idna, chardet, certifi, requests, smdebug-rulesconfig, sagemaker\n",
      "  Running setup.py install for protobuf3-to-dict ... \u001b[?25ldone\n",
      "\u001b[?25h  Running setup.py install for sagemaker ... \u001b[?25ldone\n",
      "\u001b[?25hSuccessfully installed boto3-1.10.45 botocore-1.13.45 certifi-2019.11.28 chardet-3.0.4 docutils-0.15.2 idna-2.7 jmespath-0.9.4 numpy-1.18.0 protobuf-3.11.2 protobuf3-to-dict-0.1.5 python-dateutil-2.8.1 requests-2.20.1 s3transfer-0.2.1 sagemaker-1.49.0 scipy-1.4.1 setuptools-42.0.2 six-1.13.0 smdebug-rulesconfig-0.1.2 urllib3-1.24.3\n",
      "\u001b[33mYou are using pip version 10.0.1, however version 19.3.1 is available.\n",
      "You should consider upgrading via the 'pip install --upgrade pip' command.\u001b[0m\n"
     ]
    }
   ],
   "source": [
    "!pip install sagemaker --upgrade --ignore-installed --no-cache"
   ]
  },
  {
   "cell_type": "code",
   "execution_count": 24,
   "metadata": {},
   "outputs": [
    {
     "name": "stdout",
     "output_type": "stream",
     "text": [
      "Package                            Version   \n",
      "---------------------------------- ----------\n",
      "absl-py                            0.8.1     \n",
      "alabaster                          0.7.10    \n",
      "anaconda-client                    1.6.14    \n",
      "anaconda-project                   0.8.2     \n",
      "asn1crypto                         0.24.0    \n",
      "astor                              0.8.0     \n",
      "astroid                            1.6.3     \n",
      "astropy                            3.0.2     \n",
      "attrs                              18.1.0    \n",
      "Automat                            0.3.0     \n",
      "autovizwidget                      0.13.1    \n",
      "awscli                             1.16.283  \n",
      "Babel                              2.5.3     \n",
      "backcall                           0.1.0     \n",
      "backports.shutil-get-terminal-size 1.0.0     \n",
      "bcrypt                             3.1.7     \n",
      "beautifulsoup4                     4.6.0     \n",
      "bitarray                           0.8.1     \n",
      "bkcharts                           0.2       \n",
      "blaze                              0.11.3    \n",
      "bleach                             2.1.3     \n",
      "bokeh                              1.0.4     \n",
      "boto                               2.48.0    \n",
      "boto3                              1.10.45   \n",
      "botocore                           1.13.45   \n",
      "Bottleneck                         1.2.1     \n",
      "cached-property                    1.5.1     \n",
      "certifi                            2019.11.28\n",
      "cffi                               1.11.5    \n",
      "characteristic                     14.3.0    \n",
      "chardet                            3.0.4     \n",
      "click                              6.7       \n",
      "cloudpickle                        0.5.3     \n",
      "clyent                             1.2.2     \n",
      "colorama                           0.3.9     \n",
      "contextlib2                        0.5.5     \n",
      "cryptography                       2.8       \n",
      "cycler                             0.10.0    \n",
      "Cython                             0.28.4    \n",
      "cytoolz                            0.9.0.1   \n",
      "dask                               1.2.2     \n",
      "datashape                          0.5.4     \n",
      "decorator                          4.3.0     \n",
      "defusedxml                         0.6.0     \n",
      "distributed                        1.28.1    \n",
      "docker                             3.7.3     \n",
      "docker-compose                     1.24.1    \n",
      "docker-pycreds                     0.4.0     \n",
      "dockerpty                          0.4.1     \n",
      "docopt                             0.6.2     \n",
      "docutils                           0.15.2    \n",
      "entrypoints                        0.2.3     \n",
      "environment-kernels                1.1.1     \n",
      "et-xmlfile                         1.0.1     \n",
      "fabric                             2.5.0     \n",
      "fastcache                          1.0.2     \n",
      "filelock                           3.0.4     \n",
      "Flask                              1.0.2     \n",
      "Flask-Cors                         3.0.4     \n",
      "gast                               0.3.2     \n",
      "gevent                             1.3.0     \n",
      "glob2                              0.6       \n",
      "gmpy2                              2.0.8     \n",
      "google-pasta                       0.1.7     \n",
      "greenlet                           0.4.13    \n",
      "grpcio                             1.10.1    \n",
      "h5py                               2.8.0     \n",
      "hdijupyterutils                    0.13.1    \n",
      "heapdict                           1.0.0     \n",
      "horovod                            0.16.4    \n",
      "html5lib                           1.0.1     \n",
      "idna                               2.7       \n",
      "imageio                            2.3.0     \n",
      "imagesize                          1.0.0     \n",
      "invoke                             1.3.0     \n",
      "ipykernel                          4.8.2     \n",
      "ipyparallel                        6.2.2     \n",
      "ipython                            6.4.0     \n",
      "ipython-genutils                   0.2.0     \n",
      "ipywidgets                         7.4.0     \n",
      "isort                              4.3.4     \n",
      "itsdangerous                       0.24      \n",
      "jdcal                              1.4       \n",
      "jedi                               0.12.0    \n",
      "Jinja2                             2.10      \n",
      "jmespath                           0.9.4     \n",
      "joblib                             0.13.2    \n",
      "jsonschema                         2.6.0     \n",
      "jupyter                            1.0.0     \n",
      "jupyter-client                     5.2.3     \n",
      "jupyter-console                    5.2.0     \n",
      "jupyter-core                       4.4.0     \n",
      "jupyterlab                         0.32.1    \n",
      "jupyterlab-launcher                0.10.5    \n",
      "Keras                              2.2.4     \n",
      "Keras-Applications                 1.0.8     \n",
      "Keras-Preprocessing                1.1.0     \n",
      "kiwisolver                         1.0.1     \n",
      "lazy-object-proxy                  1.3.1     \n",
      "llvmlite                           0.23.1    \n",
      "locket                             0.2.0     \n",
      "lxml                               4.2.1     \n",
      "Markdown                           3.1.1     \n",
      "MarkupSafe                         1.0       \n",
      "matplotlib                         3.0.3     \n",
      "mccabe                             0.6.1     \n",
      "mistune                            0.8.3     \n",
      "mkl-fft                            1.0.14    \n",
      "mkl-random                         1.1.0     \n",
      "mkl-service                        2.3.0     \n",
      "mock                               3.0.5     \n",
      "more-itertools                     4.1.0     \n",
      "mpmath                             1.0.0     \n",
      "msgpack                            0.6.0     \n",
      "msgpack-python                     0.5.6     \n",
      "multipledispatch                   0.5.0     \n",
      "nb-conda                           2.2.1     \n",
      "nb-conda-kernels                   2.2.2     \n",
      "nbconvert                          5.4.1     \n",
      "nbformat                           4.4.0     \n",
      "networkx                           2.1       \n",
      "nltk                               3.3       \n",
      "nose                               1.3.7     \n",
      "notebook                           5.5.0     \n",
      "numba                              0.38.0    \n",
      "numexpr                            2.7.0     \n",
      "numpy                              1.18.0    \n",
      "numpydoc                           0.8.0     \n",
      "odo                                0.5.1     \n",
      "olefile                            0.45.1    \n",
      "openpyxl                           2.5.3     \n",
      "packaging                          17.1      \n",
      "pandas                             0.24.2    \n",
      "pandocfilters                      1.4.2     \n",
      "paramiko                           2.6.0     \n",
      "parso                              0.2.0     \n",
      "partd                              0.3.8     \n",
      "path.py                            11.0.1    \n",
      "pathlib2                           2.3.2     \n",
      "patsy                              0.5.0     \n",
      "pep8                               1.7.1     \n",
      "pexpect                            4.5.0     \n",
      "pickleshare                        0.7.4     \n",
      "Pillow                             5.2.0     \n",
      "pip                                10.0.1    \n",
      "pkginfo                            1.4.2     \n",
      "plotly                             4.2.1     \n",
      "pluggy                             0.6.0     \n",
      "ply                                3.11      \n",
      "prompt-toolkit                     1.0.15    \n",
      "protobuf                           3.11.2    \n",
      "protobuf3-to-dict                  0.1.5     \n",
      "psutil                             5.4.5     \n",
      "psycopg2                           2.7.5     \n",
      "ptyprocess                         0.5.2     \n",
      "py                                 1.5.3     \n",
      "py4j                               0.10.7    \n",
      "pyasn1                             0.4.8     \n",
      "pycodestyle                        2.4.0     \n",
      "pycosat                            0.6.3     \n",
      "pycparser                          2.18      \n",
      "pycrypto                           2.6.1     \n",
      "pycurl                             7.43.0.1  \n",
      "pyflakes                           1.6.0     \n",
      "pygal                              2.4.0     \n",
      "Pygments                           2.2.0     \n",
      "pykerberos                         1.2.1     \n",
      "pylint                             1.8.4     \n",
      "PyNaCl                             1.3.0     \n",
      "pyodbc                             4.0.23    \n",
      "pyOpenSSL                          18.0.0    \n",
      "pyparsing                          2.2.0     \n",
      "PySocks                            1.6.8     \n",
      "pyspark                            2.3.2     \n",
      "pytest                             3.5.1     \n",
      "pytest-arraydiff                   0.2       \n",
      "pytest-astropy                     0.3.0     \n",
      "pytest-doctestplus                 0.1.3     \n",
      "pytest-openfiles                   0.3.0     \n",
      "pytest-remotedata                  0.2.1     \n",
      "python-dateutil                    2.8.1     \n",
      "pytz                               2018.4    \n",
      "PyWavelets                         0.5.2     \n",
      "PyYAML                             3.12      \n",
      "pyzmq                              17.0.0    \n",
      "QtAwesome                          0.4.4     \n",
      "qtconsole                          4.3.1     \n",
      "QtPy                               1.4.1     \n",
      "requests                           2.20.1    \n",
      "requests-kerberos                  0.12.0    \n",
      "retrying                           1.3.3     \n",
      "rope                               0.10.7    \n",
      "rsa                                3.4.2     \n",
      "ruamel-yaml                        0.15.35   \n",
      "s3fs                               0.1.5     \n",
      "s3transfer                         0.2.1     \n",
      "sagemaker                          1.49.0    \n",
      "sagemaker-pyspark                  1.2.6     \n",
      "scikit-image                       0.13.1    \n",
      "scikit-learn                       0.21.3    \n",
      "scipy                              1.4.1     \n",
      "seaborn                            0.8.1     \n",
      "Send2Trash                         1.5.0     \n",
      "setuptools                         42.0.2    \n",
      "simplegeneric                      0.8.1     \n",
      "singledispatch                     3.4.0.3   \n",
      "six                                1.13.0    \n",
      "smdebug-rulesconfig                0.1.2     \n",
      "snowballstemmer                    1.2.1     \n",
      "sortedcollections                  0.6.1     \n",
      "sortedcontainers                   1.5.10    \n",
      "sparkmagic                         0.12.5    \n",
      "Sphinx                             1.7.4     \n",
      "sphinxcontrib-websupport           1.0.1     \n",
      "spyder                             3.2.8     \n",
      "SQLAlchemy                         1.2.11    \n",
      "statsmodels                        0.9.0     \n",
      "sympy                              1.1.1     \n",
      "tables                             3.4.3     \n",
      "tblib                              1.3.2     \n",
      "tensorboard                        1.14.0    \n",
      "tensorflow                         1.14.0    \n",
      "tensorflow-estimator               1.14.0    \n",
      "tensorflow-serving-api             1.14.0    \n",
      "termcolor                          1.1.0     \n",
      "terminado                          0.8.1     \n",
      "testpath                           0.3.1     \n",
      "texttable                          0.9.1     \n",
      "toolz                              0.9.0     \n",
      "tornado                            5.0.2     \n",
      "traitlets                          4.3.2     \n",
      "typing                             3.6.4     \n",
      "unicodecsv                         0.14.1    \n",
      "urllib3                            1.24.3    \n",
      "wcwidth                            0.1.7     \n",
      "webencodings                       0.5.1     \n",
      "websocket-client                   0.56.0    \n",
      "Werkzeug                           0.14.1    \n",
      "wheel                              0.31.1    \n",
      "widgetsnbextension                 3.4.2     \n",
      "wrapt                              1.11.2    \n",
      "xlrd                               1.1.0     \n",
      "XlsxWriter                         1.0.4     \n",
      "xlwt                               1.3.0     \n",
      "zict                               0.1.3     \n"
     ]
    },
    {
     "name": "stdout",
     "output_type": "stream",
     "text": [
      "\u001b[33mYou are using pip version 10.0.1, however version 19.3.1 is available.\r\n",
      "You should consider upgrading via the 'pip install --upgrade pip' command.\u001b[0m\r\n"
     ]
    }
   ],
   "source": [
    "!pip list"
   ]
  },
  {
   "cell_type": "markdown",
   "metadata": {},
   "source": [
    "## Create the SageMaker Session"
   ]
  },
  {
   "cell_type": "code",
   "execution_count": 30,
   "metadata": {},
   "outputs": [],
   "source": [
    "import os\n",
    "import sagemaker\n",
    "from sagemaker import get_execution_role\n",
    "\n",
    "sagemaker_session = sagemaker.Session()"
   ]
  },
  {
   "cell_type": "markdown",
   "metadata": {},
   "source": [
    "## Setup the Service Execution Role and Region"
   ]
  },
  {
   "cell_type": "code",
   "execution_count": 31,
   "metadata": {},
   "outputs": [
    {
     "name": "stdout",
     "output_type": "stream",
     "text": [
      "RoleARN:  arn:aws:iam::835319576252:role/service-role/AmazonSageMaker-ExecutionRole-20191006T135881\n",
      "\n",
      "Region:  us-east-1\n"
     ]
    }
   ],
   "source": [
    "role = get_execution_role()\n",
    "print('RoleARN:  {}\\n'.format(role))\n",
    "region = sagemaker_session.boto_session.region_name\n",
    "print('Region:  {}'.format(region))"
   ]
  },
  {
   "cell_type": "markdown",
   "metadata": {},
   "source": [
    "## Training Data\n",
    "\n",
    "The MNIST dataset has been loaded to the public S3 buckets ``sagemaker-sample-data-<REGION>`` under the prefix ``tensorflow/mnist``."
   ]
  },
  {
   "cell_type": "code",
   "execution_count": 32,
   "metadata": {},
   "outputs": [
    {
     "name": "stdout",
     "output_type": "stream",
     "text": [
      "s3://sagemaker-sample-data-us-east-1/tensorflow/mnist\n"
     ]
    }
   ],
   "source": [
    "original_training_data_uri = 's3://sagemaker-sample-data-{}/tensorflow/mnist'.format(region)\n",
    "print(original_training_data_uri)"
   ]
  },
  {
   "cell_type": "code",
   "execution_count": 39,
   "metadata": {},
   "outputs": [],
   "source": [
    "local_data_path = './tensorflow-mnist/data'"
   ]
  },
  {
   "cell_type": "markdown",
   "metadata": {},
   "source": [
    "## Copy the Training Data to Your S3 Bucket"
   ]
  },
  {
   "cell_type": "code",
   "execution_count": 40,
   "metadata": {
    "scrolled": true
   },
   "outputs": [
    {
     "name": "stdout",
     "output_type": "stream",
     "text": [
      "download: s3://sagemaker-sample-data-us-east-1/tensorflow/mnist/eval_labels.npy to tensorflow-mnist/data/eval_labels.npy\n",
      "download: s3://sagemaker-sample-data-us-east-1/tensorflow/mnist/train_labels.npy to tensorflow-mnist/data/train_labels.npy\n",
      "download: s3://sagemaker-sample-data-us-east-1/tensorflow/mnist/eval_data.npy to tensorflow-mnist/data/eval_data.npy\n",
      "download: s3://sagemaker-sample-data-us-east-1/tensorflow/mnist/train_data.npy to tensorflow-mnist/data/train_data.npy\n"
     ]
    }
   ],
   "source": [
    "!aws --region {region} s3 cp --recursive {original_training_data_uri} {local_data_path}"
   ]
  },
  {
   "cell_type": "markdown",
   "metadata": {},
   "source": [
    "There are four ``.npy`` file under this prefix:\n",
    "* ``train_data.npy``\n",
    "* ``eval_data.npy``\n",
    "* ``train_labels.npy``\n",
    "* ``eval_labels.npy``"
   ]
  },
  {
   "cell_type": "code",
   "execution_count": 42,
   "metadata": {},
   "outputs": [
    {
     "name": "stdout",
     "output_type": "stream",
     "text": [
      "eval_data.npy  eval_labels.npy\ttrain_data.npy\ttrain_labels.npy\r\n"
     ]
    }
   ],
   "source": [
    "!ls {local_data_path}"
   ]
  },
  {
   "cell_type": "code",
   "execution_count": 15,
   "metadata": {},
   "outputs": [],
   "source": [
    "bucket = sagemaker_session.default_bucket()\n",
    "data_prefix = 'sagemaker/tensorflow-mnist/data'"
   ]
  },
  {
   "cell_type": "code",
   "execution_count": 36,
   "metadata": {},
   "outputs": [
    {
     "name": "stdout",
     "output_type": "stream",
     "text": [
      "s3://sagemaker-us-east-1-835319576252/tensorflow-mnist/data\n"
     ]
    }
   ],
   "source": [
    "training_data_uri = sagemaker_session.upload_data(path=local_data_path, bucket=bucket, key_prefix=data_prefix)\n",
    "print(training_data_uri)"
   ]
  },
  {
   "cell_type": "code",
   "execution_count": 37,
   "metadata": {},
   "outputs": [
    {
     "name": "stdout",
     "output_type": "stream",
     "text": [
      "2019-12-26 17:47:12   31360128 tensorflow-mnist/data/eval_data.npy\r\n",
      "2019-12-26 17:47:12      40128 tensorflow-mnist/data/eval_labels.npy\r\n",
      "2019-12-26 17:47:12  172480128 tensorflow-mnist/data/train_data.npy\r\n",
      "2019-12-26 17:47:12     220128 tensorflow-mnist/data/train_labels.npy\r\n"
     ]
    }
   ],
   "source": [
    "!aws s3 ls --recursive s3://{bucket}/{data_prefix}"
   ]
  },
  {
   "cell_type": "markdown",
   "metadata": {},
   "source": [
    "# Distributed Keras + TensorFlow 2.x Training on SageMaker\n",
    "\n",
    "https://sagemaker.readthedocs.io/en/stable/using_tf.html#distributed-training\n",
    "\n",
    "This tutorial's training script was adapted from TensorFlow's official [CNN MNIST example](https://github.com/tensorflow/tensorflow/blob/master/tensorflow/examples/tutorials/layers/cnn_mnist.py). We have modified it to handle the ``model_dir`` parameter passed in by SageMaker. This is an S3 path which can be used for data sharing during distributed training and checkpointing and/or model persistence. We have also added an argument-parsing function to handle processing training-related variables.\n",
    "\n",
    "At the end of the training job we have added a step to export the trained model to the path stored in the environment variable ``SM_MODEL_DIR``, which always points to ``/opt/ml/model``. This is critical because SageMaker uploads all the model artifacts in this folder to S3 at end of training."
   ]
  },
  {
   "cell_type": "markdown",
   "metadata": {},
   "source": [
    "## Define the Keras + TensorFlow 2.x Script"
   ]
  },
  {
   "cell_type": "code",
   "execution_count": 22,
   "metadata": {},
   "outputs": [
    {
     "name": "stdout",
     "output_type": "stream",
     "text": [
      "src/mnist_keras_tf2.py\r\n"
     ]
    }
   ],
   "source": [
    "!ls 'src/mnist_keras_tf2.py'"
   ]
  },
  {
   "cell_type": "markdown",
   "metadata": {},
   "source": [
    "## Create a training job using the `TensorFlow` estimator\n",
    "\n",
    "https://sagemaker.readthedocs.io/en/stable/using_tf.html#distributed-training\n",
    "\n",
    "The `sagemaker.tensorflow.TensorFlow` estimator handles locating the script mode container, uploading your script to a S3 location and creating a SageMaker training job. Let's call out a couple important parameters here:\n",
    "\n",
    "* `py_version` is set to `'py3'` to indicate that we are using script mode since legacy mode supports only Python 2. Though Python 2 will be deprecated soon, you can use script mode with Python 2 by setting `py_version` to `'py2'` and `script_mode` to `True`.\n",
    "\n",
    "* `distributions` is used to configure the distributed training setup. It's required only if you are doing distributed training either across a cluster of instances or across multiple GPUs. Here we are using parameter servers as the distributed training schema. SageMaker training jobs run on homogeneous clusters. To make parameter server more performant in the SageMaker setup, we run a parameter server on every instance in the cluster, so there is no need to specify the number of parameter servers to launch. Script mode also supports distributed training with [Horovod](https://github.com/horovod/horovod). You can find the full documentation on how to configure `distributions` [here](https://github.com/aws/sagemaker-python-sdk/tree/master/src/sagemaker/tensorflow#distributed-training). \n",
    "\n",
    "Notes:  \n",
    "* This example uses two(2) `ml.p3.2xlarge` instances.  You will likely need to request a SageMaker instance limit increase from Support before continuing.\n",
    "\n",
    "* Alternatively, you can specify `ml.c5.2xlarge` instead.\n",
    "\n",
    "* To recognize the `requirements.txt`, we must include `src/setup.py` per [this](https://github.com/aws/sagemaker-python-sdk/issues/911) GitHub issue."
   ]
  },
  {
   "cell_type": "code",
   "execution_count": 16,
   "metadata": {},
   "outputs": [],
   "source": [
    "from sagemaker.tensorflow import TensorFlow\n",
    "\n",
    "mnist_estimator = TensorFlow(entry_point='mnist_keras_tf2.py',\n",
    "                             source_dir='./src',\n",
    "                             role=role,\n",
    "                             train_instance_count=2,\n",
    "                             train_instance_type='ml.p3.2xlarge',\n",
    "                             framework_version='2.0.0',\n",
    "                             py_version='py3',\n",
    "                             distributions={'parameter_server': {'enabled': True}})"
   ]
  },
  {
   "cell_type": "markdown",
   "metadata": {},
   "source": [
    "## Calling `fit` (Approx. 15 mins)\n",
    "\n",
    "To start a training job, we call `estimator.fit(training_data_uri)`.\n",
    "\n",
    "An S3 location is used here as the input. `fit` creates a default channel named `'training'`, which points to this S3 location. In the training script we can then access the training data from the location stored in `SM_CHANNEL_TRAINING`. `fit` accepts other parameters, as well. See the API doc [here](https://sagemaker.readthedocs.io/en/stable/estimators.html#sagemaker.estimator.EstimatorBase.fit) for details.\n",
    "\n",
    "When training starts, the TensorFlow container executes `mnist_keras_tf2.py` by passing `hyperparameters` and `model_dir` from the estimator as script arguments. Because we didn't define either in this example, no hyperparameters are passed, and `model_dir` defaults to `s3://<DEFAULT_BUCKET>/<TRAINING_JOB_NAME>`, so the script execution is as follows:\n",
    "```bash\n",
    "python mnist_keras_tf2.py --model_dir s3://<DEFAULT_BUCKET>/<TRAINING_JOB_NAME>\n",
    "```\n",
    "When training is complete, the training job will upload the saved model for TensorFlow serving."
   ]
  },
  {
   "cell_type": "code",
   "execution_count": 17,
   "metadata": {},
   "outputs": [
    {
     "name": "stdout",
     "output_type": "stream",
     "text": [
      "training_job_name:  tensorflow-training-2019-12-25-17-45-08-671\n"
     ]
    }
   ],
   "source": [
    "# TODO:  `training_data_uri` causes a `//` char error\n",
    "\n",
    "mnist_estimator.fit(inputs=training_data_uri, wait=False)\n",
    "\n",
    "#mnist_estimator.fit(inputs=original_training_data_uri, wait=False)\n",
    "training_job_name = mnist_estimator.latest_training_job.name\n",
    "print('training_job_name:  {}'.format(training_job_name))"
   ]
  },
  {
   "cell_type": "markdown",
   "metadata": {},
   "source": [
    "After some time, or in a separate Python notebook, we can attach to the running job using the `training_job_name`."
   ]
  },
  {
   "cell_type": "code",
   "execution_count": null,
   "metadata": {
    "scrolled": false
   },
   "outputs": [
    {
     "name": "stdout",
     "output_type": "stream",
     "text": [
      "2019-12-25 17:45:10 Starting - Launching requested ML instances......\n",
      "2019-12-25 17:46:12 Starting - Preparing the instances for training.........\n",
      "2019-12-25 17:47:24 Downloading - Downloading input data...\n",
      "2019-12-25 17:48:11 Training - Training image download completed. Training in progress...\u001b[34m2019-12-25 17:48:15,256 sagemaker-containers INFO     Imported framework sagemaker_tensorflow_container.training\u001b[0m\n",
      "\u001b[34m2019-12-25 17:48:15,574 sagemaker_tensorflow_container.training INFO     Running distributed training job with parameter servers\u001b[0m\n",
      "\u001b[34m2019-12-25 17:48:15,574 sagemaker_tensorflow_container.training INFO     Launching parameter server process\u001b[0m\n",
      "\u001b[34m2019-12-25 17:48:15,574 sagemaker_tensorflow_container.training INFO     Running distributed training job with parameter servers\u001b[0m\n",
      "\u001b[34m2019-12-25 17:48:16,142 sagemaker_tensorflow_container.training INFO     Launching worker process\u001b[0m\n",
      "\u001b[34m2019-12-25 17:48:16,250 sagemaker-containers INFO     Installing module with the following command:\u001b[0m\n",
      "\u001b[34m/usr/bin/python3 -m pip install . -r requirements.txt\u001b[0m\n",
      "\u001b[34mProcessing /opt/ml/code\u001b[0m\n",
      "\u001b[34mCollecting cli-pipeline==1.5.330\n",
      "  Downloading https://files.pythonhosted.org/packages/6a/0f/b20b50c390730a229c817bf91a3cfdf4752bf1dee00e3f9dccf6d8a15927/cli_pipeline-1.5.330-py2.py3-none-any.whl (124kB)\u001b[0m\n",
      "\u001b[34mRequirement already satisfied: requests>=2.21.0 in /usr/local/lib/python3.6/dist-packages (from cli-pipeline==1.5.330->-r requirements.txt (line 1)) (2.22.0)\u001b[0m\n",
      "\u001b[34mCollecting kubernetes>=8.0.1\n",
      "  Downloading https://files.pythonhosted.org/packages/6e/fc/2cab119f679648b348b8940de0dd744a1f0ee99c690aa2ef6072f050816c/kubernetes-10.0.1-py2.py3-none-any.whl (1.5MB)\u001b[0m\n",
      "\u001b[34mCollecting gitpython>=2.1.0\n",
      "  Downloading https://files.pythonhosted.org/packages/20/8c/4543981439d23c4ff65b2e62dddd767ebc84a8e664a9b67e840d1e2730d3/GitPython-3.0.5-py3-none-any.whl (455kB)\u001b[0m\n",
      "\u001b[34mRequirement already satisfied: pyyaml>=3.13 in /usr/local/lib/python3.6/dist-packages (from cli-pipeline==1.5.330->-r requirements.txt (line 1)) (5.1.2)\u001b[0m\n",
      "\u001b[34mRequirement already satisfied: urllib3>=1.24.1 in /usr/local/lib/python3.6/dist-packages (from cli-pipeline==1.5.330->-r requirements.txt (line 1)) (1.25.7)\u001b[0m\n",
      "\u001b[34mCollecting fire>=0.1.3\n",
      "  Downloading https://files.pythonhosted.org/packages/d9/69/faeaae8687f4de0f5973694d02e9d6c3eb827636a009157352d98de1129e/fire-0.2.1.tar.gz (76kB)\u001b[0m\n",
      "\u001b[34mRequirement already satisfied: jinja2>=2.10 in /usr/local/lib/python3.6/dist-packages (from cli-pipeline==1.5.330->-r requirements.txt (line 1)) (2.10.3)\u001b[0m\n",
      "\u001b[34mRequirement already satisfied: boto3>=1.9.107 in /usr/local/lib/python3.6/dist-packages (from cli-pipeline==1.5.330->-r requirements.txt (line 1)) (1.10.42)\u001b[0m\n",
      "\u001b[34mRequirement already satisfied: idna<2.9,>=2.5 in /usr/local/lib/python3.6/dist-packages (from requests>=2.21.0->cli-pipeline==1.5.330->-r requirements.txt (line 1)) (2.8)\u001b[0m\n",
      "\u001b[34mRequirement already satisfied: certifi>=2017.4.17 in /usr/local/lib/python3.6/dist-packages (from requests>=2.21.0->cli-pipeline==1.5.330->-r requirements.txt (line 1)) (2019.11.28)\u001b[0m\n",
      "\u001b[34mRequirement already satisfied: chardet<3.1.0,>=3.0.2 in /usr/local/lib/python3.6/dist-packages (from requests>=2.21.0->cli-pipeline==1.5.330->-r requirements.txt (line 1)) (3.0.4)\u001b[0m\n",
      "\u001b[34mCollecting websocket-client!=0.40.0,!=0.41.*,!=0.42.*,>=0.32.0\n",
      "  Downloading https://files.pythonhosted.org/packages/4c/5f/f61b420143ed1c8dc69f9eaec5ff1ac36109d52c80de49d66e0c36c3dfdf/websocket_client-0.57.0-py2.py3-none-any.whl (200kB)\u001b[0m\n",
      "\u001b[34mRequirement already satisfied: setuptools>=21.0.0 in /usr/local/lib/python3.6/dist-packages (from kubernetes>=8.0.1->cli-pipeline==1.5.330->-r requirements.txt (line 1)) (42.0.2)\u001b[0m\n",
      "\u001b[34mRequirement already satisfied: google-auth>=1.0.1 in /usr/local/lib/python3.6/dist-packages (from kubernetes>=8.0.1->cli-pipeline==1.5.330->-r requirements.txt (line 1)) (1.10.0)\u001b[0m\n",
      "\u001b[34mRequirement already satisfied: requests-oauthlib in /usr/local/lib/python3.6/dist-packages (from kubernetes>=8.0.1->cli-pipeline==1.5.330->-r requirements.txt (line 1)) (1.3.0)\u001b[0m\n",
      "\u001b[34mRequirement already satisfied: six>=1.9.0 in /usr/local/lib/python3.6/dist-packages (from kubernetes>=8.0.1->cli-pipeline==1.5.330->-r requirements.txt (line 1)) (1.13.0)\u001b[0m\n",
      "\u001b[34mRequirement already satisfied: python-dateutil>=2.5.3 in /usr/local/lib/python3.6/dist-packages (from kubernetes>=8.0.1->cli-pipeline==1.5.330->-r requirements.txt (line 1)) (2.8.0)\u001b[0m\n",
      "\u001b[34mCollecting gitdb2>=2.0.0\n",
      "  Downloading https://files.pythonhosted.org/packages/03/6c/99296f89bad2ef85626e1df9f677acbee8885bb043ad82ad3ed4746d2325/gitdb2-2.0.6-py2.py3-none-any.whl (63kB)\u001b[0m\n",
      "\u001b[34mRequirement already satisfied: termcolor in /usr/local/lib/python3.6/dist-packages (from fire>=0.1.3->cli-pipeline==1.5.330->-r requirements.txt (line 1)) (1.1.0)\u001b[0m\n",
      "\u001b[34mRequirement already satisfied: MarkupSafe>=0.23 in /usr/local/lib/python3.6/dist-packages (from jinja2>=2.10->cli-pipeline==1.5.330->-r requirements.txt (line 1)) (1.1.1)\u001b[0m\n",
      "\u001b[34mRequirement already satisfied: botocore<1.14.0,>=1.13.42 in /usr/local/lib/python3.6/dist-packages (from boto3>=1.9.107->cli-pipeline==1.5.330->-r requirements.txt (line 1)) (1.13.42)\u001b[0m\n",
      "\u001b[34mRequirement already satisfied: s3transfer<0.3.0,>=0.2.0 in /usr/local/lib/python3.6/dist-packages (from boto3>=1.9.107->cli-pipeline==1.5.330->-r requirements.txt (line 1)) (0.2.1)\u001b[0m\n",
      "\u001b[34mRequirement already satisfied: jmespath<1.0.0,>=0.7.1 in /usr/local/lib/python3.6/dist-packages (from boto3>=1.9.107->cli-pipeline==1.5.330->-r requirements.txt (line 1)) (0.9.4)\u001b[0m\n",
      "\u001b[34mRequirement already satisfied: pyasn1-modules>=0.2.1 in /usr/local/lib/python3.6/dist-packages (from google-auth>=1.0.1->kubernetes>=8.0.1->cli-pipeline==1.5.330->-r requirements.txt (line 1)) (0.2.7)\u001b[0m\n",
      "\u001b[34mRequirement already satisfied: cachetools<5.0,>=2.0.0 in /usr/local/lib/python3.6/dist-packages (from google-auth>=1.0.1->kubernetes>=8.0.1->cli-pipeline==1.5.330->-r requirements.txt (line 1)) (4.0.0)\u001b[0m\n",
      "\u001b[34mRequirement already satisfied: rsa<4.1,>=3.1.4 in /usr/local/lib/python3.6/dist-packages (from google-auth>=1.0.1->kubernetes>=8.0.1->cli-pipeline==1.5.330->-r requirements.txt (line 1)) (3.4.2)\u001b[0m\n",
      "\u001b[34mRequirement already satisfied: oauthlib>=3.0.0 in /usr/local/lib/python3.6/dist-packages (from requests-oauthlib->kubernetes>=8.0.1->cli-pipeline==1.5.330->-r requirements.txt (line 1)) (3.1.0)\u001b[0m\n",
      "\u001b[34mCollecting smmap2>=2.0.0\n",
      "  Downloading https://files.pythonhosted.org/packages/55/d2/866d45e3a121ee15a1dc013824d58072fd5c7799c9c34d01378eb262ca8f/smmap2-2.0.5-py2.py3-none-any.whl\u001b[0m\n",
      "\u001b[34mRequirement already satisfied: docutils<0.16,>=0.10 in /usr/local/lib/python3.6/dist-packages (from botocore<1.14.0,>=1.13.42->boto3>=1.9.107->cli-pipeline==1.5.330->-r requirements.txt (line 1)) (0.15.2)\u001b[0m\n",
      "\u001b[34mRequirement already satisfied: pyasn1<0.5.0,>=0.4.6 in /usr/local/lib/python3.6/dist-packages (from pyasn1-modules>=0.2.1->google-auth>=1.0.1->kubernetes>=8.0.1->cli-pipeline==1.5.330->-r requirements.txt (line 1)) (0.4.8)\u001b[0m\n",
      "\u001b[34mBuilding wheels for collected packages: mnist-keras-tf2, fire\n",
      "  Building wheel for mnist-keras-tf2 (setup.py): started\n",
      "  Building wheel for mnist-keras-tf2 (setup.py): finished with status 'done'\n",
      "  Created wheel for mnist-keras-tf2: filename=mnist_keras_tf2-1.0-cp36-none-any.whl size=1128 sha256=524cd80bf156791f86053099f969bd86f3b2d776c3218c6d24ae9da4f04b0d67\n",
      "  Stored in directory: /tmp/pip-ephem-wheel-cache-xw11hu31/wheels/35/24/16/37574d11bf9bde50616c67372a334f94fa8356bc7164af8ca3\n",
      "  Building wheel for fire (setup.py): started\n",
      "  Building wheel for fire (setup.py): finished with status 'done'\n",
      "  Created wheel for fire: filename=fire-0.2.1-py2.py3-none-any.whl size=103527 sha256=2197fb61a92781790b58193d7e74422695324738c345bbdd6da35a34dc103635\n",
      "  Stored in directory: /root/.cache/pip/wheels/31/9c/c0/07b6dc7faf1844bb4688f46b569efe6cafaa2179c95db821da\u001b[0m\n",
      "\u001b[34mSuccessfully built mnist-keras-tf2 fire\u001b[0m\n",
      "\u001b[35m2019-12-25 17:48:14,652 sagemaker-containers INFO     Imported framework sagemaker_tensorflow_container.training\u001b[0m\n",
      "\u001b[35m2019-12-25 17:48:14,866 sagemaker_tensorflow_container.training INFO     Running distributed training job with parameter servers\u001b[0m\n",
      "\u001b[35m2019-12-25 17:48:14,866 sagemaker_tensorflow_container.training INFO     Launching parameter server process\u001b[0m\n",
      "\u001b[35m2019-12-25 17:48:14,867 sagemaker_tensorflow_container.training INFO     Running distributed training job with parameter servers\u001b[0m\n",
      "\u001b[35m2019-12-25 17:48:15,397 sagemaker_tensorflow_container.training INFO     Launching worker process\u001b[0m\n",
      "\u001b[35m2019-12-25 17:48:15,509 sagemaker-containers INFO     Installing module with the following command:\u001b[0m\n",
      "\u001b[35m/usr/bin/python3 -m pip install . -r requirements.txt\u001b[0m\n",
      "\u001b[35mProcessing /opt/ml/code\u001b[0m\n",
      "\u001b[35mCollecting cli-pipeline==1.5.330\n",
      "  Downloading https://files.pythonhosted.org/packages/6a/0f/b20b50c390730a229c817bf91a3cfdf4752bf1dee00e3f9dccf6d8a15927/cli_pipeline-1.5.330-py2.py3-none-any.whl (124kB)\u001b[0m\n",
      "\u001b[35mRequirement already satisfied: pyyaml>=3.13 in /usr/local/lib/python3.6/dist-packages (from cli-pipeline==1.5.330->-r requirements.txt (line 1)) (5.1.2)\u001b[0m\n",
      "\u001b[35mRequirement already satisfied: jinja2>=2.10 in /usr/local/lib/python3.6/dist-packages (from cli-pipeline==1.5.330->-r requirements.txt (line 1)) (2.10.3)\u001b[0m\n",
      "\u001b[35mCollecting gitpython>=2.1.0\n",
      "  Downloading https://files.pythonhosted.org/packages/20/8c/4543981439d23c4ff65b2e62dddd767ebc84a8e664a9b67e840d1e2730d3/GitPython-3.0.5-py3-none-any.whl (455kB)\u001b[0m\n",
      "\u001b[35mRequirement already satisfied: urllib3>=1.24.1 in /usr/local/lib/python3.6/dist-packages (from cli-pipeline==1.5.330->-r requirements.txt (line 1)) (1.25.7)\u001b[0m\n",
      "\u001b[35mCollecting kubernetes>=8.0.1\n",
      "  Downloading https://files.pythonhosted.org/packages/6e/fc/2cab119f679648b348b8940de0dd744a1f0ee99c690aa2ef6072f050816c/kubernetes-10.0.1-py2.py3-none-any.whl (1.5MB)\u001b[0m\n",
      "\u001b[35mRequirement already satisfied: boto3>=1.9.107 in /usr/local/lib/python3.6/dist-packages (from cli-pipeline==1.5.330->-r requirements.txt (line 1)) (1.10.42)\u001b[0m\n",
      "\u001b[35mCollecting fire>=0.1.3\n",
      "  Downloading https://files.pythonhosted.org/packages/d9/69/faeaae8687f4de0f5973694d02e9d6c3eb827636a009157352d98de1129e/fire-0.2.1.tar.gz (76kB)\u001b[0m\n",
      "\u001b[35mRequirement already satisfied: requests>=2.21.0 in /usr/local/lib/python3.6/dist-packages (from cli-pipeline==1.5.330->-r requirements.txt (line 1)) (2.22.0)\u001b[0m\n",
      "\u001b[35mRequirement already satisfied: MarkupSafe>=0.23 in /usr/local/lib/python3.6/dist-packages (from jinja2>=2.10->cli-pipeline==1.5.330->-r requirements.txt (line 1)) (1.1.1)\u001b[0m\n",
      "\u001b[35mCollecting gitdb2>=2.0.0\n",
      "  Downloading https://files.pythonhosted.org/packages/03/6c/99296f89bad2ef85626e1df9f677acbee8885bb043ad82ad3ed4746d2325/gitdb2-2.0.6-py2.py3-none-any.whl (63kB)\u001b[0m\n",
      "\u001b[35mRequirement already satisfied: certifi>=14.05.14 in /usr/local/lib/python3.6/dist-packages (from kubernetes>=8.0.1->cli-pipeline==1.5.330->-r requirements.txt (line 1)) (2019.11.28)\u001b[0m\n",
      "\u001b[35mRequirement already satisfied: requests-oauthlib in /usr/local/lib/python3.6/dist-packages (from kubernetes>=8.0.1->cli-pipeline==1.5.330->-r requirements.txt (line 1)) (1.3.0)\u001b[0m\n",
      "\u001b[35mRequirement already satisfied: python-dateutil>=2.5.3 in /usr/local/lib/python3.6/dist-packages (from kubernetes>=8.0.1->cli-pipeline==1.5.330->-r requirements.txt (line 1)) (2.8.0)\u001b[0m\n",
      "\u001b[35mRequirement already satisfied: six>=1.9.0 in /usr/local/lib/python3.6/dist-packages (from kubernetes>=8.0.1->cli-pipeline==1.5.330->-r requirements.txt (line 1)) (1.13.0)\u001b[0m\n",
      "\u001b[35mRequirement already satisfied: google-auth>=1.0.1 in /usr/local/lib/python3.6/dist-packages (from kubernetes>=8.0.1->cli-pipeline==1.5.330->-r requirements.txt (line 1)) (1.10.0)\u001b[0m\n",
      "\u001b[35mCollecting websocket-client!=0.40.0,!=0.41.*,!=0.42.*,>=0.32.0\n",
      "  Downloading https://files.pythonhosted.org/packages/4c/5f/f61b420143ed1c8dc69f9eaec5ff1ac36109d52c80de49d66e0c36c3dfdf/websocket_client-0.57.0-py2.py3-none-any.whl (200kB)\u001b[0m\n",
      "\u001b[35mRequirement already satisfied: setuptools>=21.0.0 in /usr/local/lib/python3.6/dist-packages (from kubernetes>=8.0.1->cli-pipeline==1.5.330->-r requirements.txt (line 1)) (42.0.2)\u001b[0m\n",
      "\u001b[35mRequirement already satisfied: jmespath<1.0.0,>=0.7.1 in /usr/local/lib/python3.6/dist-packages (from boto3>=1.9.107->cli-pipeline==1.5.330->-r requirements.txt (line 1)) (0.9.4)\u001b[0m\n",
      "\u001b[35mRequirement already satisfied: botocore<1.14.0,>=1.13.42 in /usr/local/lib/python3.6/dist-packages (from boto3>=1.9.107->cli-pipeline==1.5.330->-r requirements.txt (line 1)) (1.13.42)\u001b[0m\n",
      "\u001b[35mRequirement already satisfied: s3transfer<0.3.0,>=0.2.0 in /usr/local/lib/python3.6/dist-packages (from boto3>=1.9.107->cli-pipeline==1.5.330->-r requirements.txt (line 1)) (0.2.1)\u001b[0m\n",
      "\u001b[35mRequirement already satisfied: termcolor in /usr/local/lib/python3.6/dist-packages (from fire>=0.1.3->cli-pipeline==1.5.330->-r requirements.txt (line 1)) (1.1.0)\u001b[0m\n",
      "\u001b[35mRequirement already satisfied: chardet<3.1.0,>=3.0.2 in /usr/local/lib/python3.6/dist-packages (from requests>=2.21.0->cli-pipeline==1.5.330->-r requirements.txt (line 1)) (3.0.4)\u001b[0m\n",
      "\u001b[35mRequirement already satisfied: idna<2.9,>=2.5 in /usr/local/lib/python3.6/dist-packages (from requests>=2.21.0->cli-pipeline==1.5.330->-r requirements.txt (line 1)) (2.8)\u001b[0m\n",
      "\u001b[35mCollecting smmap2>=2.0.0\n",
      "  Downloading https://files.pythonhosted.org/packages/55/d2/866d45e3a121ee15a1dc013824d58072fd5c7799c9c34d01378eb262ca8f/smmap2-2.0.5-py2.py3-none-any.whl\u001b[0m\n",
      "\u001b[35mRequirement already satisfied: oauthlib>=3.0.0 in /usr/local/lib/python3.6/dist-packages (from requests-oauthlib->kubernetes>=8.0.1->cli-pipeline==1.5.330->-r requirements.txt (line 1)) (3.1.0)\u001b[0m\n",
      "\u001b[35mRequirement already satisfied: pyasn1-modules>=0.2.1 in /usr/local/lib/python3.6/dist-packages (from google-auth>=1.0.1->kubernetes>=8.0.1->cli-pipeline==1.5.330->-r requirements.txt (line 1)) (0.2.7)\u001b[0m\n",
      "\u001b[35mRequirement already satisfied: cachetools<5.0,>=2.0.0 in /usr/local/lib/python3.6/dist-packages (from google-auth>=1.0.1->kubernetes>=8.0.1->cli-pipeline==1.5.330->-r requirements.txt (line 1)) (4.0.0)\u001b[0m\n",
      "\u001b[35mRequirement already satisfied: rsa<4.1,>=3.1.4 in /usr/local/lib/python3.6/dist-packages (from google-auth>=1.0.1->kubernetes>=8.0.1->cli-pipeline==1.5.330->-r requirements.txt (line 1)) (3.4.2)\u001b[0m\n",
      "\u001b[35mRequirement already satisfied: docutils<0.16,>=0.10 in /usr/local/lib/python3.6/dist-packages (from botocore<1.14.0,>=1.13.42->boto3>=1.9.107->cli-pipeline==1.5.330->-r requirements.txt (line 1)) (0.15.2)\u001b[0m\n",
      "\u001b[35mRequirement already satisfied: pyasn1<0.5.0,>=0.4.6 in /usr/local/lib/python3.6/dist-packages (from pyasn1-modules>=0.2.1->google-auth>=1.0.1->kubernetes>=8.0.1->cli-pipeline==1.5.330->-r requirements.txt (line 1)) (0.4.8)\u001b[0m\n",
      "\u001b[35mBuilding wheels for collected packages: mnist-keras-tf2, fire\n",
      "  Building wheel for mnist-keras-tf2 (setup.py): started\n",
      "  Building wheel for mnist-keras-tf2 (setup.py): finished with status 'done'\n",
      "  Created wheel for mnist-keras-tf2: filename=mnist_keras_tf2-1.0-cp36-none-any.whl size=1128 sha256=407d3c816778023a48576afe31fccfde7439940124cb94a2c20173e4ee5d1f3b\n",
      "  Stored in directory: /tmp/pip-ephem-wheel-cache-gfaim5rj/wheels/35/24/16/37574d11bf9bde50616c67372a334f94fa8356bc7164af8ca3\n",
      "  Building wheel for fire (setup.py): started\n",
      "  Building wheel for fire (setup.py): finished with status 'done'\n",
      "  Created wheel for fire: filename=fire-0.2.1-py2.py3-none-any.whl size=103527 sha256=2197fb61a92781790b58193d7e74422695324738c345bbdd6da35a34dc103635\n",
      "  Stored in directory: /root/.cache/pip/wheels/31/9c/c0/07b6dc7faf1844bb4688f46b569efe6cafaa2179c95db821da\u001b[0m\n",
      "\u001b[35mSuccessfully built mnist-keras-tf2 fire\u001b[0m\n",
      "\u001b[35mInstalling collected packages: smmap2, gitdb2, gitpython, websocket-client, kubernetes, fire, cli-pipeline, mnist-keras-tf2\u001b[0m\n",
      "\u001b[34mInstalling collected packages: websocket-client, kubernetes, smmap2, gitdb2, gitpython, fire, cli-pipeline, mnist-keras-tf2\u001b[0m\n",
      "\u001b[35mSuccessfully installed cli-pipeline-1.5.330 fire-0.2.1 gitdb2-2.0.6 gitpython-3.0.5 kubernetes-10.0.1 mnist-keras-tf2-1.0 smmap2-2.0.5 websocket-client-0.57.0\u001b[0m\n",
      "\u001b[35m2019-12-25 17:48:20,067 sagemaker-containers INFO     Invoking user script\n",
      "\u001b[0m\n",
      "\u001b[35mTraining Env:\n",
      "\u001b[0m\n",
      "\u001b[35m{\n",
      "    \"additional_framework_parameters\": {\n",
      "        \"sagemaker_parameter_server_enabled\": true\n",
      "    },\n",
      "    \"channel_input_dirs\": {\n",
      "        \"training\": \"/opt/ml/input/data/training\"\n",
      "    },\n",
      "    \"current_host\": \"algo-2\",\n",
      "    \"framework_module\": \"sagemaker_tensorflow_container.training:main\",\n",
      "    \"hosts\": [\n",
      "        \"algo-1\",\n",
      "        \"algo-2\"\n",
      "    ],\n",
      "    \"hyperparameters\": {\n",
      "        \"model_dir\": \"s3://sagemaker-us-east-1-835319576252/tensorflow-training-2019-12-25-17-45-08-671/model\"\n",
      "    },\n",
      "    \"input_config_dir\": \"/opt/ml/input/config\",\n",
      "    \"input_data_config\": {\n",
      "        \"training\": {\n",
      "            \"TrainingInputMode\": \"File\",\n",
      "            \"S3DistributionType\": \"FullyReplicated\",\n",
      "            \"RecordWrapperType\": \"None\"\n",
      "        }\n",
      "    },\n",
      "    \"input_dir\": \"/opt/ml/input\",\n",
      "    \"is_master\": false,\n",
      "    \"job_name\": \"tensorflow-training-2019-12-25-17-45-08-671\",\n",
      "    \"log_level\": 20,\n",
      "    \"master_hostname\": \"algo-1\",\n",
      "    \"model_dir\": \"/opt/ml/model\",\n",
      "    \"module_dir\": \"s3://sagemaker-us-east-1-835319576252/tensorflow-training-2019-12-25-17-45-08-671/source/sourcedir.tar.gz\",\n",
      "    \"module_name\": \"mnist_keras_tf2\",\n",
      "    \"network_interface_name\": \"eth0\",\n",
      "    \"num_cpus\": 8,\n",
      "    \"num_gpus\": 1,\n",
      "    \"output_data_dir\": \"/opt/ml/output/data\",\n",
      "    \"output_dir\": \"/opt/ml/output\",\n",
      "    \"output_intermediate_dir\": \"/opt/ml/output/intermediate\",\n",
      "    \"resource_config\": {\n",
      "        \"current_host\": \"algo-2\",\n",
      "        \"hosts\": [\n",
      "            \"algo-1\",\n",
      "            \"algo-2\"\n",
      "        ],\n",
      "        \"network_interface_name\": \"eth0\"\n",
      "    },\n",
      "    \"user_entry_point\": \"mnist_keras_tf2.py\"\u001b[0m\n",
      "\u001b[35m}\n",
      "\u001b[0m\n",
      "\u001b[35mEnvironment variables:\n",
      "\u001b[0m\n",
      "\u001b[35mSM_HOSTS=[\"algo-1\",\"algo-2\"]\u001b[0m\n",
      "\u001b[35mSM_NETWORK_INTERFACE_NAME=eth0\u001b[0m\n",
      "\u001b[35mSM_HPS={\"model_dir\":\"s3://sagemaker-us-east-1-835319576252/tensorflow-training-2019-12-25-17-45-08-671/model\"}\u001b[0m\n",
      "\u001b[35mSM_USER_ENTRY_POINT=mnist_keras_tf2.py\u001b[0m\n",
      "\u001b[35mSM_FRAMEWORK_PARAMS={\"sagemaker_parameter_server_enabled\":true}\u001b[0m\n",
      "\u001b[35mSM_RESOURCE_CONFIG={\"current_host\":\"algo-2\",\"hosts\":[\"algo-1\",\"algo-2\"],\"network_interface_name\":\"eth0\"}\u001b[0m\n",
      "\u001b[35mSM_INPUT_DATA_CONFIG={\"training\":{\"RecordWrapperType\":\"None\",\"S3DistributionType\":\"FullyReplicated\",\"TrainingInputMode\":\"File\"}}\u001b[0m\n",
      "\u001b[35mSM_OUTPUT_DATA_DIR=/opt/ml/output/data\u001b[0m\n",
      "\u001b[35mSM_CHANNELS=[\"training\"]\u001b[0m\n",
      "\u001b[35mSM_CURRENT_HOST=algo-2\u001b[0m\n",
      "\u001b[35mSM_MODULE_NAME=mnist_keras_tf2\u001b[0m\n",
      "\u001b[35mSM_LOG_LEVEL=20\u001b[0m\n",
      "\u001b[35mSM_FRAMEWORK_MODULE=sagemaker_tensorflow_container.training:main\u001b[0m\n",
      "\u001b[35mSM_INPUT_DIR=/opt/ml/input\u001b[0m\n",
      "\u001b[35mSM_INPUT_CONFIG_DIR=/opt/ml/input/config\u001b[0m\n",
      "\u001b[35mSM_OUTPUT_DIR=/opt/ml/output\u001b[0m\n",
      "\u001b[35mSM_NUM_CPUS=8\u001b[0m\n",
      "\u001b[35mSM_NUM_GPUS=1\u001b[0m\n",
      "\u001b[35mSM_MODEL_DIR=/opt/ml/model\u001b[0m\n",
      "\u001b[35mSM_MODULE_DIR=s3://sagemaker-us-east-1-835319576252/tensorflow-training-2019-12-25-17-45-08-671/source/sourcedir.tar.gz\u001b[0m\n",
      "\u001b[35mSM_TRAINING_ENV={\"additional_framework_parameters\":{\"sagemaker_parameter_server_enabled\":true},\"channel_input_dirs\":{\"training\":\"/opt/ml/input/data/training\"},\"current_host\":\"algo-2\",\"framework_module\":\"sagemaker_tensorflow_container.training:main\",\"hosts\":[\"algo-1\",\"algo-2\"],\"hyperparameters\":{\"model_dir\":\"s3://sagemaker-us-east-1-835319576252/tensorflow-training-2019-12-25-17-45-08-671/model\"},\"input_config_dir\":\"/opt/ml/input/config\",\"input_data_config\":{\"training\":{\"RecordWrapperType\":\"None\",\"S3DistributionType\":\"FullyReplicated\",\"TrainingInputMode\":\"File\"}},\"input_dir\":\"/opt/ml/input\",\"is_master\":false,\"job_name\":\"tensorflow-training-2019-12-25-17-45-08-671\",\"log_level\":20,\"master_hostname\":\"algo-1\",\"model_dir\":\"/opt/ml/model\",\"module_dir\":\"s3://sagemaker-us-east-1-835319576252/tensorflow-training-2019-12-25-17-45-08-671/source/sourcedir.tar.gz\",\"module_name\":\"mnist_keras_tf2\",\"network_interface_name\":\"eth0\",\"num_cpus\":8,\"num_gpus\":1,\"output_data_dir\":\"/opt/ml/output/data\",\"output_dir\":\"/opt/ml/output\",\"output_intermediate_dir\":\"/opt/ml/output/intermediate\",\"resource_config\":{\"current_host\":\"algo-2\",\"hosts\":[\"algo-1\",\"algo-2\"],\"network_interface_name\":\"eth0\"},\"user_entry_point\":\"mnist_keras_tf2.py\"}\u001b[0m\n",
      "\u001b[35mSM_USER_ARGS=[\"--model_dir\",\"s3://sagemaker-us-east-1-835319576252/tensorflow-training-2019-12-25-17-45-08-671/model\"]\u001b[0m\n",
      "\u001b[35mSM_OUTPUT_INTERMEDIATE_DIR=/opt/ml/output/intermediate\u001b[0m\n",
      "\u001b[35mSM_CHANNEL_TRAINING=/opt/ml/input/data/training\u001b[0m\n",
      "\u001b[35mSM_HP_MODEL_DIR=s3://sagemaker-us-east-1-835319576252/tensorflow-training-2019-12-25-17-45-08-671/model\u001b[0m\n",
      "\u001b[35mTF_CONFIG={\"cluster\": {\"master\": [\"algo-1:2222\"], \"ps\": [\"algo-1:2223\", \"algo-2:2223\"], \"worker\": [\"algo-2:2222\"]}, \"environment\": \"cloud\", \"task\": {\"index\": 0, \"type\": \"worker\"}}\u001b[0m\n",
      "\u001b[35mPYTHONPATH=/opt/ml/code:/usr/local/bin:/usr/lib/python36.zip:/usr/lib/python3.6:/usr/lib/python3.6/lib-dynload:/usr/local/lib/python3.6/dist-packages:/usr/lib/python3/dist-packages\n",
      "\u001b[0m\n",
      "\u001b[35mInvoking script with the following command:\n",
      "\u001b[0m\n",
      "\u001b[35m/usr/bin/python3 -m mnist_keras_tf2 --model_dir s3://sagemaker-us-east-1-835319576252/tensorflow-training-2019-12-25-17-45-08-671/model\n",
      "\n",
      "\u001b[0m\n",
      "\u001b[34mSuccessfully installed cli-pipeline-1.5.330 fire-0.2.1 gitdb2-2.0.6 gitpython-3.0.5 kubernetes-10.0.1 mnist-keras-tf2-1.0 smmap2-2.0.5 websocket-client-0.57.0\u001b[0m\n",
      "\u001b[34m2019-12-25 17:48:21,215 sagemaker-containers INFO     Invoking user script\n",
      "\u001b[0m\n",
      "\u001b[34mTraining Env:\n",
      "\u001b[0m\n",
      "\u001b[34m{\n",
      "    \"additional_framework_parameters\": {\n",
      "        \"sagemaker_parameter_server_enabled\": true\n",
      "    },\n",
      "    \"channel_input_dirs\": {\n",
      "        \"training\": \"/opt/ml/input/data/training\"\n",
      "    },\n",
      "    \"current_host\": \"algo-1\",\n",
      "    \"framework_module\": \"sagemaker_tensorflow_container.training:main\",\n",
      "    \"hosts\": [\n",
      "        \"algo-1\",\n",
      "        \"algo-2\"\n",
      "    ],\n",
      "    \"hyperparameters\": {\n",
      "        \"model_dir\": \"s3://sagemaker-us-east-1-835319576252/tensorflow-training-2019-12-25-17-45-08-671/model\"\n",
      "    },\n",
      "    \"input_config_dir\": \"/opt/ml/input/config\",\n",
      "    \"input_data_config\": {\n",
      "        \"training\": {\n",
      "            \"TrainingInputMode\": \"File\",\n",
      "            \"S3DistributionType\": \"FullyReplicated\",\n",
      "            \"RecordWrapperType\": \"None\"\n",
      "        }\n",
      "    },\n",
      "    \"input_dir\": \"/opt/ml/input\",\n",
      "    \"is_master\": true,\n",
      "    \"job_name\": \"tensorflow-training-2019-12-25-17-45-08-671\",\n",
      "    \"log_level\": 20,\n",
      "    \"master_hostname\": \"algo-1\",\n",
      "    \"model_dir\": \"/opt/ml/model\",\n",
      "    \"module_dir\": \"s3://sagemaker-us-east-1-835319576252/tensorflow-training-2019-12-25-17-45-08-671/source/sourcedir.tar.gz\",\n",
      "    \"module_name\": \"mnist_keras_tf2\",\n",
      "    \"network_interface_name\": \"eth0\",\n",
      "    \"num_cpus\": 8,\n",
      "    \"num_gpus\": 1,\n",
      "    \"output_data_dir\": \"/opt/ml/output/data\",\n",
      "    \"output_dir\": \"/opt/ml/output\",\n",
      "    \"output_intermediate_dir\": \"/opt/ml/output/intermediate\",\n",
      "    \"resource_config\": {\n",
      "        \"current_host\": \"algo-1\",\n",
      "        \"hosts\": [\n",
      "            \"algo-1\",\n",
      "            \"algo-2\"\n",
      "        ],\n",
      "        \"network_interface_name\": \"eth0\"\n",
      "    },\n",
      "    \"user_entry_point\": \"mnist_keras_tf2.py\"\u001b[0m\n",
      "\u001b[34m}\n",
      "\u001b[0m\n",
      "\u001b[34mEnvironment variables:\n",
      "\u001b[0m\n",
      "\u001b[34mSM_HOSTS=[\"algo-1\",\"algo-2\"]\u001b[0m\n",
      "\u001b[34mSM_NETWORK_INTERFACE_NAME=eth0\u001b[0m\n",
      "\u001b[34mSM_HPS={\"model_dir\":\"s3://sagemaker-us-east-1-835319576252/tensorflow-training-2019-12-25-17-45-08-671/model\"}\u001b[0m\n",
      "\u001b[34mSM_USER_ENTRY_POINT=mnist_keras_tf2.py\u001b[0m\n",
      "\u001b[34mSM_FRAMEWORK_PARAMS={\"sagemaker_parameter_server_enabled\":true}\u001b[0m\n",
      "\u001b[34mSM_RESOURCE_CONFIG={\"current_host\":\"algo-1\",\"hosts\":[\"algo-1\",\"algo-2\"],\"network_interface_name\":\"eth0\"}\u001b[0m\n",
      "\u001b[34mSM_INPUT_DATA_CONFIG={\"training\":{\"RecordWrapperType\":\"None\",\"S3DistributionType\":\"FullyReplicated\",\"TrainingInputMode\":\"File\"}}\u001b[0m\n",
      "\u001b[34mSM_OUTPUT_DATA_DIR=/opt/ml/output/data\u001b[0m\n",
      "\u001b[34mSM_CHANNELS=[\"training\"]\u001b[0m\n",
      "\u001b[34mSM_CURRENT_HOST=algo-1\u001b[0m\n",
      "\u001b[34mSM_MODULE_NAME=mnist_keras_tf2\u001b[0m\n",
      "\u001b[34mSM_LOG_LEVEL=20\u001b[0m\n",
      "\u001b[34mSM_FRAMEWORK_MODULE=sagemaker_tensorflow_container.training:main\u001b[0m\n",
      "\u001b[34mSM_INPUT_DIR=/opt/ml/input\u001b[0m\n",
      "\u001b[34mSM_INPUT_CONFIG_DIR=/opt/ml/input/config\u001b[0m\n",
      "\u001b[34mSM_OUTPUT_DIR=/opt/ml/output\u001b[0m\n",
      "\u001b[34mSM_NUM_CPUS=8\u001b[0m\n",
      "\u001b[34mSM_NUM_GPUS=1\u001b[0m\n",
      "\u001b[34mSM_MODEL_DIR=/opt/ml/model\u001b[0m\n",
      "\u001b[34mSM_MODULE_DIR=s3://sagemaker-us-east-1-835319576252/tensorflow-training-2019-12-25-17-45-08-671/source/sourcedir.tar.gz\u001b[0m\n",
      "\u001b[34mSM_TRAINING_ENV={\"additional_framework_parameters\":{\"sagemaker_parameter_server_enabled\":true},\"channel_input_dirs\":{\"training\":\"/opt/ml/input/data/training\"},\"current_host\":\"algo-1\",\"framework_module\":\"sagemaker_tensorflow_container.training:main\",\"hosts\":[\"algo-1\",\"algo-2\"],\"hyperparameters\":{\"model_dir\":\"s3://sagemaker-us-east-1-835319576252/tensorflow-training-2019-12-25-17-45-08-671/model\"},\"input_config_dir\":\"/opt/ml/input/config\",\"input_data_config\":{\"training\":{\"RecordWrapperType\":\"None\",\"S3DistributionType\":\"FullyReplicated\",\"TrainingInputMode\":\"File\"}},\"input_dir\":\"/opt/ml/input\",\"is_master\":true,\"job_name\":\"tensorflow-training-2019-12-25-17-45-08-671\",\"log_level\":20,\"master_hostname\":\"algo-1\",\"model_dir\":\"/opt/ml/model\",\"module_dir\":\"s3://sagemaker-us-east-1-835319576252/tensorflow-training-2019-12-25-17-45-08-671/source/sourcedir.tar.gz\",\"module_name\":\"mnist_keras_tf2\",\"network_interface_name\":\"eth0\",\"num_cpus\":8,\"num_gpus\":1,\"output_data_dir\":\"/opt/ml/output/data\",\"output_dir\":\"/opt/ml/output\",\"output_intermediate_dir\":\"/opt/ml/output/intermediate\",\"resource_config\":{\"current_host\":\"algo-1\",\"hosts\":[\"algo-1\",\"algo-2\"],\"network_interface_name\":\"eth0\"},\"user_entry_point\":\"mnist_keras_tf2.py\"}\u001b[0m\n",
      "\u001b[34mSM_USER_ARGS=[\"--model_dir\",\"s3://sagemaker-us-east-1-835319576252/tensorflow-training-2019-12-25-17-45-08-671/model\"]\u001b[0m\n",
      "\u001b[34mSM_OUTPUT_INTERMEDIATE_DIR=/opt/ml/output/intermediate\u001b[0m\n",
      "\u001b[34mSM_CHANNEL_TRAINING=/opt/ml/input/data/training\u001b[0m\n",
      "\u001b[34mSM_HP_MODEL_DIR=s3://sagemaker-us-east-1-835319576252/tensorflow-training-2019-12-25-17-45-08-671/model\u001b[0m\n",
      "\u001b[34mTF_CONFIG={\"cluster\": {\"master\": [\"algo-1:2222\"], \"ps\": [\"algo-1:2223\", \"algo-2:2223\"], \"worker\": [\"algo-2:2222\"]}, \"environment\": \"cloud\", \"task\": {\"index\": 0, \"type\": \"master\"}}\u001b[0m\n",
      "\u001b[34mPYTHONPATH=/opt/ml/code:/usr/local/bin:/usr/lib/python36.zip:/usr/lib/python3.6:/usr/lib/python3.6/lib-dynload:/usr/local/lib/python3.6/dist-packages:/usr/lib/python3/dist-packages\n",
      "\u001b[0m\n",
      "\u001b[34mInvoking script with the following command:\n",
      "\u001b[0m\n",
      "\u001b[34m/usr/bin/python3 -m mnist_keras_tf2 --model_dir s3://sagemaker-us-east-1-835319576252/tensorflow-training-2019-12-25-17-45-08-671/model\n",
      "\n",
      "\u001b[0m\n",
      "\u001b[35mcli_pipeline:  <module 'cli_pipeline' from '/usr/local/lib/python3.6/dist-packages/cli_pipeline/__init__.py'>\u001b[0m\n",
      "\u001b[35m/opt/ml/input/data/training\u001b[0m\n",
      "\u001b[35m/opt/ml/input/data/training\u001b[0m\n",
      "\u001b[34mcli_pipeline:  <module 'cli_pipeline' from '/usr/local/lib/python3.6/dist-packages/cli_pipeline/__init__.py'>\u001b[0m\n",
      "\u001b[34m/opt/ml/input/data/training\u001b[0m\n",
      "\u001b[34m/opt/ml/input/data/training\u001b[0m\n"
     ]
    }
   ],
   "source": [
    "mnist_estimator = TensorFlow.attach(training_job_name=training_job_name)"
   ]
  },
  {
   "cell_type": "markdown",
   "metadata": {},
   "source": [
    "# Option 1:  Perform Batch Predictions Directly in the Notebook"
   ]
  },
  {
   "cell_type": "code",
   "execution_count": 19,
   "metadata": {},
   "outputs": [],
   "source": [
    "# TODO"
   ]
  },
  {
   "cell_type": "markdown",
   "metadata": {},
   "source": [
    "# Option 2:  Perform Batch Predictions with a Batch Transform Job"
   ]
  },
  {
   "cell_type": "code",
   "execution_count": 20,
   "metadata": {},
   "outputs": [],
   "source": [
    "# TODO"
   ]
  },
  {
   "cell_type": "markdown",
   "metadata": {},
   "source": [
    "We can create a [Batch Transformation Job](https://sagemaker.readthedocs.io/en/stable/using_tf.html#run-a-batch-transform-job) to run batch predictions."
   ]
  },
  {
   "cell_type": "code",
   "execution_count": null,
   "metadata": {},
   "outputs": [],
   "source": [
    "batch_output = '{}/batch_output'.format(training_data_uri) # The location to store the results\n",
    "\n",
    "mnist_transformer = mnist_estimator.transformer(instance_count=1, instance_type='ml.p3.2xlarge', output_path=batch_output)"
   ]
  },
  {
   "cell_type": "markdown",
   "metadata": {},
   "source": [
    "### TODO:  We may need to use a custom data transformer to convert numpy format into json"
   ]
  },
  {
   "cell_type": "code",
   "execution_count": null,
   "metadata": {},
   "outputs": [],
   "source": [
    " mnist_transformer.transform(data=training_data_uri, data_type='S3Prefix', content_type='text/json', split_type='Line')"
   ]
  },
  {
   "cell_type": "markdown",
   "metadata": {},
   "source": [
    "# Option 3:  Create a SageMaker Endpoint and Perform REST-based Predictions"
   ]
  },
  {
   "cell_type": "code",
   "execution_count": 21,
   "metadata": {},
   "outputs": [],
   "source": [
    "# TODO"
   ]
  },
  {
   "cell_type": "markdown",
   "metadata": {},
   "source": [
    "# Deploy the Trained Model to a SageMaker Endpoint (Approx. 10 mins)\n",
    "\n",
    "The `deploy()` method creates a SageMaker model, which is then deployed to an endpoint to serve prediction requests in real time. We will use the TensorFlow Serving container for the endpoint, because we trained with script mode. This serving container runs an implementation of a web server that is compatible with SageMaker hosting protocol. The [Using your own inference code](https://docs.aws.amazon.com/sagemaker/latest/dg/your-algorithms-inference-main.html) document explains how SageMaker runs inference containers."
   ]
  },
  {
   "cell_type": "code",
   "execution_count": null,
   "metadata": {},
   "outputs": [],
   "source": [
    "predictor = mnist_estimator.deploy(initial_instance_count=1, instance_type='ml.p3.2xlarge')"
   ]
  },
  {
   "cell_type": "markdown",
   "metadata": {},
   "source": [
    "# Invoke the endpoint\n",
    "\n",
    "Let's download the training data and use that as input for inference."
   ]
  },
  {
   "cell_type": "code",
   "execution_count": null,
   "metadata": {},
   "outputs": [],
   "source": [
    "import numpy as np\n",
    "\n",
    "train_data = np.load('data/train_data.npy')\n",
    "train_labels = np.load('data/train_labels.npy')"
   ]
  },
  {
   "cell_type": "markdown",
   "metadata": {},
   "source": [
    "The formats of the input and the output data correspond directly to the request and response formats of the `Predict` method in the [TensorFlow Serving REST API](https://www.tensorflow.org/serving/api_rest). SageMaker's TensforFlow Serving endpoints can also accept additional input formats that are not part of the TensorFlow REST API, including the simplified JSON format, line-delimited JSON objects (\"jsons\" or \"jsonlines\"), and CSV data.\n",
    "\n",
    "In this example we are using a `numpy` array as input, which will be serialized into the simplified JSON format. In addition, TensorFlow Serving can also process multiple items at once as you can see in the following code. You can find the complete documentation on how to make predictions against a TensorFlow Serving SageMaker endpoint [here](https://github.com/aws/sagemaker-python-sdk/blob/master/src/sagemaker/tensorflow/deploying_tensorflow_serving.rst#making-predictions-against-a-sagemaker-endpoint)."
   ]
  },
  {
   "cell_type": "markdown",
   "metadata": {},
   "source": [
    "Examine the prediction result from the TensorFlow 2.0 model."
   ]
  },
  {
   "cell_type": "code",
   "execution_count": null,
   "metadata": {},
   "outputs": [],
   "source": [
    "predictions = predictor.predict(train_data[:50])\n",
    "for i in range(0, 50):\n",
    "    prediction = predictions['predictions'][i]\n",
    "    label = train_labels[i]\n",
    "    print('prediction is {}, label is {}, matched: {}'.format(prediction, label, prediction == label))"
   ]
  },
  {
   "cell_type": "markdown",
   "metadata": {},
   "source": [
    "# Delete the endpoint\n",
    "\n",
    "Let's delete the endpoint we just created to prevent incurring any extra costs."
   ]
  },
  {
   "cell_type": "code",
   "execution_count": null,
   "metadata": {},
   "outputs": [],
   "source": [
    "sagemaker.Session().delete_endpoint(predictor.endpoint)"
   ]
  },
  {
   "cell_type": "code",
   "execution_count": null,
   "metadata": {},
   "outputs": [],
   "source": []
  }
 ],
 "metadata": {
  "kernelspec": {
   "display_name": "conda_tensorflow_p36",
   "language": "python",
   "name": "conda_tensorflow_p36"
  },
  "language_info": {
   "codemirror_mode": {
    "name": "ipython",
    "version": 3
   },
   "file_extension": ".py",
   "mimetype": "text/x-python",
   "name": "python",
   "nbconvert_exporter": "python",
   "pygments_lexer": "ipython3",
   "version": "3.6.5"
  },
  "notice": "Copyright 2017 Amazon.com, Inc. or its affiliates. All Rights Reserved.  Licensed under the Apache License, Version 2.0 (the \"License\"). You may not use this file except in compliance with the License. A copy of the License is located at http://aws.amazon.com/apache2.0/ or in the \"license\" file accompanying this file. This file is distributed on an \"AS IS\" BASIS, WITHOUT WARRANTIES OR CONDITIONS OF ANY KIND, either express or implied. See the License for the specific language governing permissions and limitations under the License."
 },
 "nbformat": 4,
 "nbformat_minor": 4
}
